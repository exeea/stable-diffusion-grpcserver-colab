{
  "nbformat": 4,
  "nbformat_minor": 0,
  "metadata": {
    "colab": {
      "private_outputs": true,
      "provenance": [],
      "include_colab_link": true
    },
    "kernelspec": {
      "name": "python3",
      "display_name": "Python 3"
    },
    "language_info": {
      "name": "python"
    },
    "accelerator": "GPU",
    "gpuClass": "standard"
  },
  "cells": [
    {
      "cell_type": "markdown",
      "metadata": {
        "id": "view-in-github",
        "colab_type": "text"
      },
      "source": [
        "<a href=\"https://colab.research.google.com/github/exeea/stable-diffusion-grpcserver-colab/blob/main/GRPCServer.ipynb\" target=\"_parent\"><img src=\"https://colab.research.google.com/assets/colab-badge.svg\" alt=\"Open In Colab\"/></a>"
      ]
    },
    {
      "cell_type": "markdown",
      "source": [
        "## System Information"
      ],
      "metadata": {
        "id": "6-464OaL4AdP"
      }
    },
    {
      "cell_type": "code",
      "source": [
        "! nvidia-smi\n",
        "! nvcc -V\n",
        "! free -h\n",
        "!echo \"-----\"\n",
        "!df -h"
      ],
      "metadata": {
        "id": "gLgFVcXp4GGy"
      },
      "execution_count": null,
      "outputs": []
    },
    {
      "cell_type": "markdown",
      "source": [
        "## Installation"
      ],
      "metadata": {
        "id": "yHCcGdeT3pv7"
      }
    },
    {
      "cell_type": "code",
      "source": [
        "# @markdown # Install the Environment\n",
        "import os\n",
        "import sys\n",
        "!apt update\n",
        "!apt upgrade -y\n",
        "!python --version\n",
        "\n",
        "if not os.path.exists(\"/usr/local/bin/conda\"):\n",
        "  print(\"Installing conda...\")\n",
        "  !wget -O mini.sh https://repo.anaconda.com/miniconda/Miniconda3-latest-Linux-x86_64.sh\n",
        "  !chmod +x mini.sh\n",
        "  !bash ./mini.sh -b -f -p /usr/local\n",
        "  !rm mini.sh\n",
        "  !conda install -q -y jupyter\n",
        "  !conda install -q -y google-colab -c conda-forge\n",
        "  !python -m ipykernel install --name \"py39\" --user\n",
        "  !apt install python-pip -y\n",
        "  !python --version\n",
        "  print(\"Conda is ready.\")\n",
        "else:\n",
        "  print(\"Conda already installed.\")\n",
        "\n",
        "!conda update -n base -c defaults conda -y\n",
        "print(\"done.\")"
      ],
      "metadata": {
        "cellView": "form",
        "id": "aRg-h79j7ZWM"
      },
      "execution_count": null,
      "outputs": []
    },
    {
      "cell_type": "code",
      "execution_count": null,
      "metadata": {
        "id": "gX-ZbTMsGAu6",
        "cellView": "form"
      },
      "outputs": [],
      "source": [
        "# @markdown # Install the GRPCServer\n",
        "# @markdown Note: xformers are not yet working.\n",
        "%cd /content\n",
        "!git clone --depth=1 https://github.com/hafriedlander/stable-diffusion-grpcserver.git\n",
        "%cd stable-diffusion-grpcserver\n",
        "os.environ['PIP_EXTRA_INDEX_URL'] = \"https://download.pytorch.org/whl/cu116\"\n",
        "os.environ['FLIT_ROOT_INSTALL'] = \"1\"\n",
        "\n",
        "install_script = \"\"\"#!/bin/bash\n",
        "  eval \"$(conda shell.bash hook)\"\n",
        "  cd /content/stable-diffusion-grpcserver\n",
        "  conda env create -f environment.yaml\n",
        "  conda activate sd-grpc-server\n",
        "  flit install --pth-file\n",
        "  conda install xformers -c xformers/label/dev\n",
        "  python3 -m pip install --upgrade tensorrt\"\"\"\n",
        "! {install_script}\n",
        "\n",
        "print(\"done.\")"
      ]
    },
    {
      "cell_type": "markdown",
      "source": [
        "## Start service"
      ],
      "metadata": {
        "id": "LlOf-4sR_vCb"
      }
    },
    {
      "cell_type": "code",
      "source": [
        "# @markdown # Run script\n",
        "# @markdown keep in mind that this script is set to run for ever.\n",
        "\n",
        "# @markdown The HuggingFace API Key you have to get it from https://huggingface.co/settings/tokens, if you don't have one: create it with \"write\" permissions.\n",
        "HUGGINGFACE_API_KEY = \"hf_your_huggingface_api_token\" # @param {type: \"string\"}\n",
        "# @markdown The Access Token is your secret API key that you will use to connect. This is up to you.\n",
        "ACCESS_TOKEN = \"your_secret\" # @param {type: \"string\"}\n",
        "NSFW_BEHAVIOUR = \"ignore\" #@param [\"ignore\",\"flag\",\"block\"]\n",
        "\n",
        "\n",
        "# @markdown when the server is started, before the models are loaded, you will get a message with:\n",
        "# @markdown > GRPC listening on port 50051, HTTP listening on port 5000. Start your engines....\\\n",
        "# @markdown > Loading engines...\n",
        "# @markdown > - Engine stable-diffusion-v1-5-standard...\n",
        "# @markdown > - Model laion-clip-b...\\\n",
        "# @markdown > Localtunnel started. Use these settings to connect:\n",
        "# @markdown >>  Server 'this-is-an-example-54-121-190-94.loca.lt'\\\n",
        "# @markdown >>  Port '443'\\\n",
        "# @markdown >>  Key 'your_secret'\n",
        "# @markdown >>  \n",
        "# @markdown >\n",
        "# @markdown ## Use those informations to connect: Server, Port and Key\n",
        "# @markdown \\\n",
        "# @markdown ## is possible that you will have to navigate, using your browser, to https://that_server_sddress_you_get and press the CONTINUE before be able to use the endpoint correctly\n",
        "\n",
        "import os\n",
        "%cd /content/stable-diffusion-grpcserver\n",
        "! git pull\n",
        "!echo \"Machine IP: \"\n",
        "!curl ipecho.net/plain\n",
        "!echo \"\"\n",
        "os.environ['PIP_EXTRA_INDEX_URL'] = \"https://download.pytorch.org/whl/cu116\"\n",
        "os.environ['SD_LISTEN_TO_ALL'] = \"1\"\n",
        "os.environ['SD_LOCALTUNNEL'] = \"1\"\n",
        "os.environ['HF_API_TOKEN'] = HUGGINGFACE_API_KEY\n",
        "os.environ['SD_ACCESS_TOKEN'] = ACCESS_TOKEN\n",
        "os.environ['SD_NSFW_BEHAVIOUR'] = NSFW_BEHAVIOUR\n",
        "run_script = \"\"\"#!/bin/sh\n",
        "  eval \"$(conda shell.bash hook)\"\n",
        "  conda activate sd-grpc-server\n",
        "  python -V\n",
        "  python server.py\"\"\"\n",
        "! {run_script}"
      ],
      "metadata": {
        "id": "zCKRqLfyNYJk"
      },
      "execution_count": null,
      "outputs": []
    },
    {
      "cell_type": "markdown",
      "source": [
        "Some notes:\n",
        "### idea2.art: \n",
        "- you have to fill up server, port and key as written (no http or https in front of the dns)\n",
        "\n",
        "### flying dog PS/Krita plugin: \n",
        "- you have to put https:// in front of the dns, for example https://flying-server-324.34lr4.loca.lt (the port is not needed, https is 443)"
      ],
      "metadata": {
        "id": "fO16NYMg0t_a"
      }
    }
  ]
}